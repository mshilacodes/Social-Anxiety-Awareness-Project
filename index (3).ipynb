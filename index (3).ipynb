{
 "cells": [
  {
   "cell_type": "markdown",
   "id": "a5a924f9",
   "metadata": {},
   "source": [
    "# SOCIAL ANXIETY PREVENTION RECOMMENDER"
   ]
  },
  {
   "cell_type": "markdown",
   "id": "f9bd7e17",
   "metadata": {},
   "source": [
    "## PROBLEM STATEMENT \n",
    "\n",
    "With over 5 million Kenyans struggling with anxiety disorders, MindGuard revolutionizes mental health through an intelligent early-warning system. Using Feedforward Neural Networks to interpret complex behavioral patterns, MindGuard detects anxiety risks and delivers personalized preventative interventions, helping individuals maintain optimal mental wellness before clinical intervention becomes necessary."
   ]
  },
  {
   "cell_type": "markdown",
   "id": "1af8fd3d",
   "metadata": {},
   "source": [
    "## OBJECTIVES\n",
    "\n",
    "1. Can we create an intelligent early-warning system that accurately predicts who is likely to experience anxiety problems, allowing for timely prevention and support?\n",
    "\n",
    "2. How can we provide personalized lifestyle recommendations that are most likely to help individuals reduce their anxiety risk based on their unique profile?\n",
    "\n",
    "3. Which lifestyle factors have the biggest impact on anxiety and how can these insights guide effective prevention strategies and public health initiatives?\n",
    "\n",
    "\n"
   ]
  },
  {
   "cell_type": "markdown",
   "id": "6b57c334",
   "metadata": {},
   "source": [
    "## PLAN OF EXECUTION\n",
    "\n",
    "- EDA \n",
    "- PREPROCESSING\n",
    "- MODEL BUILDING\n",
    "- MODEL INTERPRETATION \n",
    "- DEPLOYMENT\n",
    "\n"
   ]
  },
  {
   "cell_type": "markdown",
   "id": "7ece18c7",
   "metadata": {},
   "source": [
    "## EDA AND PREPROCESSING"
   ]
  },
  {
   "cell_type": "markdown",
   "id": "70a5ac38",
   "metadata": {},
   "source": [
    "### Load Dataset"
   ]
  },
  {
   "cell_type": "code",
   "execution_count": null,
   "id": "76ff23e3",
   "metadata": {},
   "outputs": [
    {
     "ename": "",
     "evalue": "",
     "output_type": "error",
     "traceback": [
      "\u001b[1;31mRunning cells with 'venv (3.12.3) (Python 3.12.3)' requires the ipykernel package.\n",
      "\u001b[1;31mInstall 'ipykernel' into the Python environment. \n",
      "\u001b[1;31mCommand: 'c:/Users/USER/Documents/Moringa/phase_4/projec/Social-Anxiety-Awareness-Project/venv/Scripts/python.exe -m pip install ipykernel -U --force-reinstall'"
     ]
    }
   ],
   "source": [
    "#import needed libraries and load datasets to be used\n",
    "import pandas as pd\n",
    "from sklearn.pipeline import Pipeline\n",
    "from sklearn.compose import ColumnTransformer\n",
    "from sklearn.preprocessing import StandardScaler\n",
    "from sklearn.model_selection import train_test_split, GridSearchCV, StratifiedKFold\n",
    "from sklearn.ensemble import RandomForestClassifier, RandomForestRegressor\n",
    "from sklearn.linear_model import LogisticRegression\n",
    "from sklearn.model_selection import GridSearchCV\n",
    "import matplotlib.pyplot as plt\n",
    "from sklearn.tree import DecisionTreeClassifier\n",
    "from sklearn.preprocessing import OneHotEncoder\n",
    "from sklearn.impute import SimpleImputer\n",
    "from sklearn.preprocessing import MinMaxScaler\n",
    "from sklearn.metrics import classification_report, accuracy_score\n",
    "from sklearn.ensemble import RandomForestClassifier\n",
    "from sklearn.feature_selection import SelectFromModel\n",
    "\n",
    "\n",
    "enhanced_data = pd.read_csv('enhanced_anxiety_dataset.csv')\n",
    "family_data = pd.read_csv('family_anxiety_14_dataset.csv')\n",
    "\n"
   ]
  },
  {
   "cell_type": "markdown",
   "id": "30b4f392",
   "metadata": {},
   "source": [
    "### Perusing Data\n",
    "\n",
    "\n",
    "Glancing at the dataset and what it entails to help guide on how we will execute our objectives"
   ]
  },
  {
   "cell_type": "code",
   "execution_count": null,
   "id": "5b8f46e9",
   "metadata": {},
   "outputs": [],
   "source": [
    "#Print first rows of enhanced anxiety dataset\n",
    "enhanced_data.head()\n"
   ]
  },
  {
   "cell_type": "code",
   "execution_count": null,
   "id": "0ce5b0f6",
   "metadata": {},
   "outputs": [],
   "source": [
    "enhanced_data.columns"
   ]
  },
  {
   "cell_type": "code",
   "execution_count": null,
   "id": "19fbf8c6",
   "metadata": {},
   "outputs": [],
   "source": [
    "#Scheme the data types of the enhanced dataset\n",
    "enhanced_data.info()"
   ]
  },
  {
   "cell_type": "code",
   "execution_count": null,
   "id": "ff65465d",
   "metadata": {},
   "outputs": [],
   "source": [
    "#Summary stats for enhanced dataset\n",
    "enhanced_data.describe()"
   ]
  },
  {
   "cell_type": "code",
   "execution_count": null,
   "id": "8f869d66",
   "metadata": {},
   "outputs": [],
   "source": [
    "#Check for missing values\n",
    "enhanced_data.isnull().sum()"
   ]
  },
  {
   "cell_type": "markdown",
   "id": "5bdfbd26",
   "metadata": {},
   "source": [
    "### Preprocessing pipelines and Modeling using ensemble methods \n",
    "\n",
    "This defined broke down the features into 2 Feature categories. We then proceeded to carrying out Preprocessing and Modeling using Random Forest based on the Objectives of the project"
   ]
  },
  {
   "cell_type": "code",
   "execution_count": null,
   "id": "f9734631",
   "metadata": {},
   "outputs": [],
   "source": [
    "#Define feature categories\n",
    "ls_features = ['Age', 'Gender', 'Occupation',\n",
    "    'Sleep Hours', 'Physical Activity (hrs/week)', \n",
    "    'Caffeine Intake (mg/day)', 'Alcohol Consumption (drinks/week)',\n",
    "    'Smoking', 'Family History of Anxiety', 'Stress Level (1-10)',  'Recent Major Life Event',\n",
    "    'Diet Quality (1-10)'\n",
    "]\n",
    "physiological_features = ['Heart Rate (bpm)', 'Breathing Rate (breaths/min)', 'Sweating Level (1-5)','Dizziness']\n",
    "  \n",
    "all_features = ls_features + physiological_features"
   ]
  },
  {
   "cell_type": "code",
   "execution_count": null,
   "id": "d8849612",
   "metadata": {},
   "outputs": [],
   "source": [
    "enhanced_data[all_features].info()"
   ]
  },
  {
   "cell_type": "code",
   "execution_count": null,
   "id": "48818ca4",
   "metadata": {},
   "outputs": [],
   "source": [
    "#Split data into features and target variable\n",
    "anxiety_thresh = 5\n",
    "X_lifestyle= enhanced_data[ls_features].copy()\n",
    "X = enhanced_data[all_features].copy()\n",
    "\n",
    "y_bin = (enhanced_data['Anxiety Level (1-10)'] >= anxiety_thresh).astype(int)\n",
    "y = enhanced_data['Anxiety Level (1-10)'].values\n",
    "\n"
   ]
  },
  {
   "cell_type": "code",
   "execution_count": null,
   "id": "d46835a3",
   "metadata": {},
   "outputs": [],
   "source": [
    "X.info()"
   ]
  },
  {
   "cell_type": "code",
   "execution_count": null,
   "id": "a0750452",
   "metadata": {},
   "outputs": [],
   "source": [
    "#Identify Categorical and numerical features\n",
    "categorical_features = X.select_dtypes(include=['object']).columns\n",
    "num_features = X.select_dtypes(include=['int64', 'float64']).columns"
   ]
  },
  {
   "cell_type": "code",
   "execution_count": null,
   "id": "45a739f6",
   "metadata": {},
   "outputs": [],
   "source": [
    "print(\"Numerical transformer:\", num_features.tolist())\n",
    "print(\"Categorical transformer:\", categorical_features.tolist())"
   ]
  },
  {
   "cell_type": "code",
   "execution_count": null,
   "id": "f62d9eef",
   "metadata": {},
   "outputs": [],
   "source": [
    "# Define preprocessing steps for numerical and categorical features\n",
    "\n",
    "\n",
    "early_preprocessing = ColumnTransformer(\n",
    "    transformers=[ ('num', StandardScaler(), num_features),\n",
    "        ('cat', OneHotEncoder(handle_unknown='ignore'), categorical_features)\n",
    "    ],\n",
    ")\n"
   ]
  },
  {
   "cell_type": "code",
   "execution_count": null,
   "id": "56066df8",
   "metadata": {},
   "outputs": [],
   "source": [
    "#Split the data into training and testing sets\n",
    "X_train_rf,X_test_rf,y_train_bin_rf,y_test_bin_rf = train_test_split(X_lifestyle,y_bin, test_size=0.2, random_state=42, stratify=y_bin)\n"
   ]
  },
  {
   "cell_type": "code",
   "execution_count": null,
   "id": "f16d32cb",
   "metadata": {},
   "outputs": [],
   "source": [
    "\n",
    "X_train_all,X_test_all,y_train_all,y_test_all = train_test_split(X,y, test_size=0.2, random_state=42)"
   ]
  },
  {
   "cell_type": "code",
   "execution_count": null,
   "id": "6bea1471",
   "metadata": {},
   "outputs": [],
   "source": [
    "print(\"Available columns in X_train_rf:\")\n",
    "print(X_train_rf.columns.tolist())"
   ]
  },
  {
   "cell_type": "code",
   "execution_count": null,
   "id": "1b3027ce",
   "metadata": {},
   "outputs": [],
   "source": [
    "# Objective 1: Early Detection of Anxiety using Random Forest Classifier\n",
    "# Create a pipeline with preprocessing and classifier\n",
    "\n",
    "# Objective 1: Early Detection of Anxiety using Random Forest Classifier\n",
    "# Create a preprocessing pipeline for lifestyle features only\n",
    "lifestyle_num_features = X_train_rf.select_dtypes(include=['int64', 'float64']).columns\n",
    "lifestyle_cat_features = X_train_rf.select_dtypes(include=['object']).columns\n",
    "\n",
    "lifestyle_preprocessing = ColumnTransformer(\n",
    "    transformers=[\n",
    "        ('num', StandardScaler(), lifestyle_num_features),\n",
    "        ('cat', OneHotEncoder(handle_unknown='ignore'), lifestyle_cat_features)\n",
    "    ]\n",
    ")\n",
    "\n",
    "early_pip = Pipeline([\n",
    "    ('preprocessing', lifestyle_preprocessing),\n",
    "    ('classifier', RandomForestClassifier(n_estimators=200, \n",
    "     max_depth=15, min_samples_split=5, random_state=42, class_weight='balanced'))\n",
    "])\n",
    "\n",
    "early_pip.fit(X_train_rf, y_train_bin_rf)\n",
    "early_pred = early_pip.predict(X_test_rf)\n",
    "early_acc = accuracy_score(y_test_bin_rf, early_pred)"
   ]
  },
  {
   "cell_type": "code",
   "execution_count": null,
   "id": "3966b36f",
   "metadata": {},
   "outputs": [],
   "source": [
    "print(f\"RF Early Detection Accuracy: {early_acc: .4f}\")\n",
    "print(classification_report(y_test_bin_rf,early_pred, target_names=['Low Anxiety', 'High Anxiety']))"
   ]
  },
  {
   "cell_type": "code",
   "execution_count": null,
   "id": "b5473717",
   "metadata": {},
   "outputs": [],
   "source": [
    "\n",
    "# Create a pipeline with preprocessing and classifier\n",
    "rf_rec_pipeline = Pipeline([\n",
    "\t('preprocessing', early_preprocessing),\n",
    "\t('classifier', RandomForestRegressor(random_state=42, n_estimators=200, max_depth=20, min_samples_split=2))\n",
    "])\n"
   ]
  },
  {
   "cell_type": "code",
   "execution_count": null,
   "id": "aec07e57",
   "metadata": {},
   "outputs": [],
   "source": [
    "#Objective 2: Personalized recommendations for anxiety management\n",
    "import numpy as np\n",
    "from sklearn.metrics import mean_squared_error, r2_score\n",
    "\n",
    "#Fit the pipeline to the training data\n",
    "rf_rec_pipeline.fit(X_train_all,y_train_all)\n",
    "\n",
    "#Test predictions and evaluate the model\n",
    "y_pred = rf_rec_pipeline.predict(X_test_all)\n",
    "\n",
    "#Evaluate model performance\n",
    "rf_rmse = np.sqrt(mean_squared_error(y_test_all, y_pred))\n",
    "r2 = r2_score(y_test_all, y_pred)"
   ]
  },
  {
   "cell_type": "code",
   "execution_count": null,
   "id": "a564bd38",
   "metadata": {},
   "outputs": [],
   "source": [
    "print(f\"RF Regression RMSE: {rf_rmse: .4f}\")\n",
    "print(f\"RF Regression R^2: {r2: .4f}\")"
   ]
  },
  {
   "cell_type": "code",
   "execution_count": null,
   "id": "a82422f0",
   "metadata": {
    "scrolled": true
   },
   "outputs": [],
   "source": [
    "#Objective 3: Lifestyle Analysis\n",
    "rf_feature_names = (list(num_features) + list(early_preprocessing.named_transformers_['cat'].get_feature_names_out(categorical_features)))"
   ]
  },
  {
   "cell_type": "code",
   "execution_count": null,
   "id": "a59767e7",
   "metadata": {},
   "outputs": [],
   "source": [
    "rf_importance = rf_rec_pipeline.named_steps['classifier'].feature_importances_\n",
    "\n",
    "rf_importance_df = pd.DataFrame({'feature' : rf_feature_names,\n",
    "                                 'importance': rf_importance}).sort_values('importance', ascending=False)"
   ]
  },
  {
   "cell_type": "code",
   "execution_count": null,
   "id": "af3cc0ba",
   "metadata": {},
   "outputs": [],
   "source": [
    "print(\"Top 10 RF Feature Importances:\")\n",
    "print(rf_importance_df.head(10))\n"
   ]
  },
  {
   "cell_type": "code",
   "execution_count": null,
   "id": "1c189fa5",
   "metadata": {},
   "outputs": [],
   "source": [
    "#Visualize feature importances\n",
    "fig, ax = plt.subplots(figsize=(10, 8))\n",
    "axes = [ax]\n",
    "\n",
    "rf_importance_df.head(10).plot(kind='barh', x='feature', y='importance', ax=axes[0], legend=False)\n",
    "\n",
    "\n"
   ]
  },
  {
   "cell_type": "code",
   "execution_count": null,
   "id": "965ccc4b",
   "metadata": {},
   "outputs": [],
   "source": [
    "#Random Forest Performance Summary\n",
    "rf_metrics = ['Early Warning\\nAccuracy', 'Regression\\nRMSE', 'Regression\\nR²']\n",
    "rf_values = [early_acc, rf_rmse, r2]\n",
    "colors = ['lightblue', 'lightcoral', 'lightgreen']"
   ]
  },
  {
   "cell_type": "code",
   "execution_count": null,
   "id": "32f1ab6e",
   "metadata": {},
   "outputs": [],
   "source": [
    "fig_perf, ax_perf = plt.subplots(figsize=(6, 5))\n",
    "bars = ax_perf.bar(rf_metrics, rf_values, color=colors)\n",
    "ax_perf.set_title('Random Forest Performance Summary')\n",
    "ax_perf.set_ylabel('Score')\n",
    "plt.show()"
   ]
  },
  {
   "cell_type": "code",
   "execution_count": null,
   "id": "06ba9d94",
   "metadata": {},
   "outputs": [],
   "source": [
    "#Performance summary\n",
    "print(f\"RF Early Detection Accuracy: {early_acc: .4f}\")\n",
    "print(classification_report(y_test_bin_rf,early_pred, target_names=['Low Anxiety', 'High Anxiety']))\n",
    "print(\"Top 10 RF Feature Importances:\")\n",
    "print(rf_importance_df.head(10))\n",
    "\n"
   ]
  },
  {
   "cell_type": "markdown",
   "id": "4487e9d2",
   "metadata": {},
   "source": [
    "## MODEL BUILDING \n"
   ]
  },
  {
   "cell_type": "code",
   "execution_count": null,
   "id": "fb3af20b",
   "metadata": {},
   "outputs": [],
   "source": [
    "# Import modeling and evaluation libraries\n",
    "\n",
    "from sklearn.linear_model import LinearRegression, Ridge\n",
    "from sklearn.tree import DecisionTreeRegressor\n",
    "from sklearn.ensemble import RandomForestRegressor, GradientBoostingRegressor\n",
    "from sklearn.neural_network import MLPRegressor\n",
    "from sklearn.metrics import mean_squared_error, r2_score\n",
    "import pandas as pd"
   ]
  },
  {
   "cell_type": "code",
   "execution_count": null,
   "id": "f0e04f46",
   "metadata": {},
   "outputs": [],
   "source": [
    "# Load and combine raw datasets\n",
    "enhanced_df = pd.read_csv('enhanced_anxiety_dataset.csv')\n",
    "family_df = pd.read_csv('family_anxiety_14_dataset.csv')\n",
    "\n",
    "# Label dataset origin\n",
    "enhanced_df['Dataset'] = 'Enhanced'\n",
    "family_df['Dataset'] = 'Family'\n",
    "\n",
    "# Combine datasets\n",
    "data = pd.concat([enhanced_df, family_df], ignore_index=True)\n",
    "data.head()\n",
    "\n",
    "# Encode categorical variables\n",
    "categorical_cols = ['Gender', 'Occupation', 'Smoking', 'Family History of Anxiety', 'Dizziness', 'Medication', 'Recent Major Life Event', 'Dataset']\n",
    "data_encoded = pd.get_dummies(data, columns=categorical_cols, drop_first=True)\n",
    "\n",
    "# Handle missing values (if any)\n",
    "data_encoded = data_encoded.dropna()\n",
    "\n",
    "# Define features and target\n",
    "X = data_encoded.drop('Anxiety Level (1-10)', axis=1)\n",
    "y = data_encoded['Anxiety Level (1-10)']\n",
    "\n",
    "# Train/test split\n",
    "X_train, X_test, y_train, y_test = train_test_split(X, y, test_size=0.2, random_state=42)"
   ]
  },
  {
   "cell_type": "markdown",
   "id": "cfe70682",
   "metadata": {},
   "source": [
    "### Baseline Model"
   ]
  },
  {
   "cell_type": "code",
   "execution_count": null,
   "id": "bc48cbd0",
   "metadata": {},
   "outputs": [],
   "source": [
    "# Baseline Model: Linear Regression\n",
    "# Simple baseline to set a performance floor\n",
    "\n",
    "from sklearn.linear_model import LinearRegression\n",
    "baseline = LinearRegression()\n",
    "baseline.fit(X_train, y_train)\n",
    "y_pred_baseline = baseline.predict(X_test)\n",
    "\n",
    "print(\"Baseline Linear Regression\")\n",
    "print(f\"MSE: {mean_squared_error(y_test_all, y_pred_baseline):.2f}, R^2: {r2_score(y_test, y_pred_baseline):.2f}\")\n"
   ]
  },
  {
   "cell_type": "markdown",
   "id": "a76f0232",
   "metadata": {},
   "source": [
    "### Advanced Models"
   ]
  },
  {
   "cell_type": "code",
   "execution_count": null,
   "id": "20eed7c3",
   "metadata": {},
   "outputs": [],
   "source": [
    "# Define a suite of regression models for comparison\n",
    "# This gives a comparative view of multiple modeling approaches \n",
    "# from linear to tree-based to neural helping identify the model that best captures patterns in the data.\n",
    "\n",
    "models = {\n",
    "    'Ridge Regression': Ridge(alpha=1.0),\n",
    "    'Decision Tree': DecisionTreeRegressor(random_state=42),\n",
    "    'Random Forest': RandomForestRegressor(n_estimators=100, random_state=42),\n",
    "    'Gradient Boosting': GradientBoostingRegressor(random_state=42),\n",
    "    'Feedforward Neural Net': MLPRegressor(hidden_layer_sizes=(128, 64, 32), \n",
    "                                           activation='relu',\n",
    "                                           solver='adam',\n",
    "                                           max_iter=1000,\n",
    "                                           random_state=42)\n",
    "}\n",
    "\n",
    "# Train each model and evaluate on the test set\n",
    "\n",
    "results = []\n",
    "for name, model in models.items():\n",
    "    model.fit(X_train, y_train)\n",
    "    y_pred = model.predict(X_test)\n",
    "    mse = mean_squared_error(y_test, y_pred)\n",
    "    r2 = r2_score(y_test, y_pred)\n",
    "    results.append((name, mse, r2))\n",
    "\n",
    "# Results DataFrame \n",
    "results_df = pd.DataFrame(results, columns=[\"Model\", \"MSE\", \"R2\"])\n",
    "results_df.sort_values(by=\"R2\", ascending=False)"
   ]
  },
  {
   "cell_type": "markdown",
   "id": "af7df26e",
   "metadata": {},
   "source": [
    "#### Evaluation of Models\n",
    "\n",
    "Random Forest performed best with MSE = 1.07 and R² = 0.77, making it the most accurate and generalizable model.\n",
    "\n",
    "Gradient Boosting and the Feedforward Neural Network followed closely, also explaining over 75% of the variance.\n",
    "\n",
    "Ridge Regression and the baseline Linear model showed limited predictive power (R² ≈ 0.70), suggesting linear models miss important patterns.\n",
    "\n",
    "Decision Tree underperformed, indicating it's too simple for this task."
   ]
  },
  {
   "cell_type": "markdown",
   "id": "7ceb319a",
   "metadata": {},
   "source": [
    "## Feedforward Neural Network\n",
    "### Why?\n",
    "Strong performance: R² of 0.75, close to the best-performing model.\n",
    "\n",
    "Captures complex patterns: Better at learning nonlinear relationships among lifestyle and physiological factors.\n",
    "\n",
    "Future-ready: Easily extendable for classification, personalization, and deep learning deployment.\n",
    "\n",
    "Strategic fit: Aligns with MindGuard’s AI-first approach for real-time, intelligent anxiety risk prediction.\n",
    "\n"
   ]
  },
  {
   "cell_type": "markdown",
   "id": "cbf1a433",
   "metadata": {},
   "source": [
    "### Predicted vs Actual"
   ]
  },
  {
   "cell_type": "code",
   "execution_count": null,
   "id": "9a1f7fa2",
   "metadata": {
    "scrolled": true
   },
   "outputs": [],
   "source": [
    "import seaborn as sns\n",
    "\n",
    "fnn_model = models['Feedforward Neural Net']\n",
    "y_pred_nn = fnn_model.predict(X_test)\n",
    "\n",
    "plt.figure(figsize=(8, 6))\n",
    "sns.scatterplot(x=y_test, y=y_pred_nn, alpha=0.6)\n",
    "plt.plot([y_test.min(), y_test.max()], [y_test.min(), y_test.max()], 'r--')\n",
    "plt.xlabel(\"Actual Anxiety Level\")\n",
    "plt.ylabel(\"Predicted Anxiety Level\")\n",
    "plt.title(\"FNN: Predicted vs Actual\")\n",
    "plt.tight_layout()\n",
    "plt.show()\n"
   ]
  },
  {
   "cell_type": "markdown",
   "id": "ce8bb252",
   "metadata": {},
   "source": [
    "Observations: \n",
    "\n",
    "1. Tight clustering around the red line shows strong agreement between predicted and actual anxiety levels.\n",
    "2. Spread is consistent across the range, meaning the model performs well across both low and high anxiety scores.\n",
    "3. Minor vertical scatter indicates some prediction error, but no major bias or drift.\n",
    "4. Overall, the FNN demonstrates accurate and stable predictions across the full anxiety scale."
   ]
  },
  {
   "cell_type": "markdown",
   "id": "3c7d89cd",
   "metadata": {},
   "source": [
    "### Residual Plot"
   ]
  },
  {
   "cell_type": "code",
   "execution_count": null,
   "id": "f982636d",
   "metadata": {},
   "outputs": [],
   "source": [
    "residuals = y_test - y_pred_nn\n",
    "\n",
    "plt.figure(figsize=(8, 6))\n",
    "sns.histplot(residuals, bins=30, kde=True)\n",
    "plt.title(\"FNN Residuals Distribution\")\n",
    "plt.xlabel(\"Residual (Actual - Predicted)\")\n",
    "plt.tight_layout()\n",
    "plt.show()\n"
   ]
  },
  {
   "cell_type": "markdown",
   "id": "abe939cf",
   "metadata": {},
   "source": [
    "Residual Plot Summary:\n",
    "\n",
    "1. Symmetrical bell shape: The residuals are normally distributed meaning the model makes balanced predictions with no major bias.\n",
    "2. Centered at 0: On average, the model neither overpredicts nor underpredicts which is the ideal behavior.\n",
    "3. Tapering ends: Most predictions are close to the actual values; very large errors are rare.\n",
    "4. Smooth KDE line\tThe kernel density estimation (blue line) follows the histogram closely, confirming stable prediction behavior across data points."
   ]
  },
  {
   "cell_type": "markdown",
   "id": "6a8b73cd",
   "metadata": {},
   "source": [
    "## MODEL INTERPRETATION"
   ]
  },
  {
   "cell_type": "markdown",
   "id": "06b58c9f",
   "metadata": {},
   "source": [
    "### Early detection of Anxiety using Random Forest Classifier\n",
    "#### Interpretations \n",
    "High Accuracy (82%): Indicates the model successfully distinguishes between individuals with low and high anxiety.\n",
    "\n",
    "Precision (Low Anxiety) = 0.87: The model is very reliable when it predicts someone does not have high anxiety—good for avoiding false alarms.\n",
    "\n",
    "Recall (High Anxiety) = 0.70: About 70% of those with high anxiety are correctly identified, which is decent but leaves room for improvement.\n",
    "\n",
    "F1-score (High Anxiety) = 0.71: Balanced performance in predicting high-risk individuals.\n",
    "\n",
    "#### Insights\n",
    "Slight Recall Imbalance: Could indicate:\n",
    "\n",
    "Class imbalance (fewer high-anxiety cases).\n",
    "\n",
    "Need for SMOTE or weighted loss.\n",
    "\n",
    "Random Forest Strength: Works well with non-linearities and feature interactions—ideal for psychological data with complex dependencies.\n",
    "\n",
    "Feature Contribution: Lifestyle data alone allows fairly strong early detection, emphasizing the value of behavioral data for screening purposes.\n",
    "### Personalized recommendations(regression)\n",
    "#### Key Model Interpretations:\n",
    "R² = 0.77: The model explains 77% of the variance in anxiety scores across individuals. This is a strong indicator of model generalization.\n",
    "\n",
    "RMSE = 1.03: On a 1–10 scale, the average prediction error is around 1 point—acceptable for psychological risk prediction.\n",
    "#### Insights\n",
    "Non-Linearity Captured: Anxiety is not always linearly related to factors like age or caffeine. RF handles this with ease, making predictions robust.\n",
    "\n",
    "Feature Flexibility: By combining lifestyle and physiological data, the model gives a more holistic view of each individual, enabling nuanced recommendations.\n",
    "\n",
    "Personalization: You can reverse-engineer the score and provide users with:\n",
    "\n",
    "“You are scoring 7.2 due to high stress and low sleep.”\n",
    "\n",
    "“Improving sleep from 4h to 7h could reduce your risk score by ~1.1.”\n",
    "### Lifestyle Analysis: Feature Importance\n",
    "#### Interpretations\n",
    "Stress Level (0.47): Core driver of anxiety — confirms psychological theory. Strongest single predictor in both classifier and regressor.\n",
    "\n",
    "Sleep Hours (0.22): Inadequate sleep strongly elevates anxiety. Tailored sleep hygiene interventions can be highly effective.\n",
    "\n",
    "Caffeine Intake (0.08): Stimulants like caffeine exacerbate anxiety—important for behavioral recommendations.\n",
    "\n",
    "Diet Quality (0.04): Poor nutrition subtly contributes to anxiety—likely via energy, gut-brain axis, or inflammation.\n",
    "\n",
    "#### Insights\n",
    "Interventions can be personalized based on individual feature profiles:\n",
    "\n",
    "High caffeine + low sleep = focus on stimulants and rest.\n",
    "\n",
    "High stress + poor breathing = recommend mindfulness, yoga, or CBT.\n",
    "\n",
    "Explainable AI Opportunity: With SHAP values, you can show users exactly which features pushed their score up/down—enhancing trust and transparency."
   ]
  },
  {
   "cell_type": "markdown",
   "id": "aad8590b",
   "metadata": {},
   "source": [
    "### Interpretations across all models.\n",
    "Model Agreement\n",
    "All ensemble models (Random Forest, Gradient Boosting) perform well, suggesting:\n",
    "The signal in the data is strong and consistent.\n",
    "Non-linear interactions dominate (e.g., stress x sleep, age x caffeine).\n",
    "\n",
    "FNN also performs well (R² = 0.75), confirming deep learning can learn useful patterns even from moderate-sized tabular data.\n",
    "\n",
    "Model Robustness\n",
    "Random Forest has low variance and bias due to its averaging approach.\n",
    "\n",
    "The regressor’s consistent performance across test sets suggests it can be safely deployed for real-world prediction (if retrained on production data).\n",
    "\n",
    "Health Insight Integration\n",
    "The model’s importance rankings correlate with clinical/psychological literature—validating its practical utility and trustworthiness."
   ]
  },
  {
   "cell_type": "markdown",
   "id": "52af8658",
   "metadata": {},
   "source": [
    "## CONCLUSION "
   ]
  },
  {
   "cell_type": "markdown",
   "id": "0eae18f2",
   "metadata": {},
   "source": [
    "This project successfully demonstrates the potential of machine learning models—specifically ensemble methods like Random Forest and Gradient Boosting—in the early detection, risk prediction, and personalized recommendation of anxiety prevention strategies. \n",
    "\n",
    "By leveraging a combination of lifestyle and physiological data, we have built interpretable, high-performing models capable of supporting real-world mental health interventions.\n",
    "\n",
    "This work demonstrates that machine learning can meaningfully contribute to mental health awareness and early intervention. The models developed here can be embedded into digital health tools to provide users with:\n",
    "\n",
    "Early warning signs of potential anxiety disorders.\n",
    "\n",
    "Risk scores tailored to their personal lifestyle and physiology.\n",
    "\n",
    "Recommendations for behavioral change targeting high-impact factors such as stress management, sleep hygiene, and caffeine reduction."
   ]
  },
  {
   "cell_type": "markdown",
   "id": "331784e8",
   "metadata": {},
   "source": [
    "## NEXT STEPS"
   ]
  },
  {
   "cell_type": "markdown",
   "id": "507000e9",
   "metadata": {},
   "source": []
  }
 ],
 "metadata": {
  "kernelspec": {
   "display_name": "venv (3.12.3)",
   "language": "python",
   "name": "python3"
  },
  "language_info": {
   "codemirror_mode": {
    "name": "ipython",
    "version": 3
   },
   "file_extension": ".py",
   "mimetype": "text/x-python",
   "name": "python",
   "nbconvert_exporter": "python",
   "pygments_lexer": "ipython3",
   "version": "3.12.3"
  }
 },
 "nbformat": 4,
 "nbformat_minor": 5
}
